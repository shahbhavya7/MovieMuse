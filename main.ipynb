{
 "cells": [
  {
   "cell_type": "markdown",
   "id": "9621336cb961aa97",
   "metadata": {},
   "source": [
    "# Movie Recommender System"
   ]
  },
  {
   "cell_type": "markdown",
   "id": "c35bebb96ef6c168",
   "metadata": {},
   "source": [
    "## Importing Libraries and Datasets"
   ]
  },
  {
   "cell_type": "code",
   "id": "163a1a0f8eac15a8",
   "metadata": {
    "ExecuteTime": {
     "end_time": "2025-03-13T19:05:28.251077Z",
     "start_time": "2025-03-13T19:05:28.238142Z"
    }
   },
   "source": [
    "import pandas as pd\n",
    "import numpy as np"
   ],
   "outputs": [],
   "execution_count": 58
  },
  {
   "cell_type": "code",
   "id": "e9d5f5d205f11c13",
   "metadata": {
    "ExecuteTime": {
     "end_time": "2025-03-13T19:05:28.609932Z",
     "start_time": "2025-03-13T19:05:28.271495Z"
    }
   },
   "source": [
    "movies = pd.read_csv('movies.csv')\n",
    "credit = pd.read_csv('credits.csv')"
   ],
   "outputs": [],
   "execution_count": 59
  },
  {
   "cell_type": "code",
   "id": "b4e1ce1c2b1fd0cc",
   "metadata": {
    "ExecuteTime": {
     "end_time": "2025-03-13T19:05:28.624826Z",
     "start_time": "2025-03-13T19:05:28.609932Z"
    }
   },
   "source": [
    "movies.head(1)"
   ],
   "outputs": [
    {
     "data": {
      "text/plain": [
       "      budget  \\\n",
       "0  237000000   \n",
       "\n",
       "                                                                                                                                   genres  \\\n",
       "0  [{\"id\": 28, \"name\": \"Action\"}, {\"id\": 12, \"name\": \"Adventure\"}, {\"id\": 14, \"name\": \"Fantasy\"}, {\"id\": 878, \"name\": \"Science Fiction\"}]   \n",
       "\n",
       "                      homepage     id  \\\n",
       "0  http://www.avatarmovie.com/  19995   \n",
       "\n",
       "                                                                                                                                                                                                                                                                                                                                                                                                                                                                                                                                                                                                                                                                                                                                                          keywords  \\\n",
       "0  [{\"id\": 1463, \"name\": \"culture clash\"}, {\"id\": 2964, \"name\": \"future\"}, {\"id\": 3386, \"name\": \"space war\"}, {\"id\": 3388, \"name\": \"space colony\"}, {\"id\": 3679, \"name\": \"society\"}, {\"id\": 3801, \"name\": \"space travel\"}, {\"id\": 9685, \"name\": \"futuristic\"}, {\"id\": 9840, \"name\": \"romance\"}, {\"id\": 9882, \"name\": \"space\"}, {\"id\": 9951, \"name\": \"alien\"}, {\"id\": 10148, \"name\": \"tribe\"}, {\"id\": 10158, \"name\": \"alien planet\"}, {\"id\": 10987, \"name\": \"cgi\"}, {\"id\": 11399, \"name\": \"marine\"}, {\"id\": 13065, \"name\": \"soldier\"}, {\"id\": 14643, \"name\": \"battle\"}, {\"id\": 14720, \"name\": \"love affair\"}, {\"id\": 165431, \"name\": \"anti war\"}, {\"id\": 193554, \"name\": \"power relations\"}, {\"id\": 206690, \"name\": \"mind and soul\"}, {\"id\": 209714, \"name\": \"3d\"}]   \n",
       "\n",
       "  original_language original_title  \\\n",
       "0                en         Avatar   \n",
       "\n",
       "                                                                                                                                                                          overview  \\\n",
       "0  In the 22nd century, a paraplegic Marine is dispatched to the moon Pandora on a unique mission, but becomes torn between following orders and protecting an alien civilization.   \n",
       "\n",
       "   popularity  \\\n",
       "0  150.437577   \n",
       "\n",
       "                                                                                                                                                                                          production_companies  \\\n",
       "0  [{\"name\": \"Ingenious Film Partners\", \"id\": 289}, {\"name\": \"Twentieth Century Fox Film Corporation\", \"id\": 306}, {\"name\": \"Dune Entertainment\", \"id\": 444}, {\"name\": \"Lightstorm Entertainment\", \"id\": 574}]   \n",
       "\n",
       "                                                                                         production_countries  \\\n",
       "0  [{\"iso_3166_1\": \"US\", \"name\": \"United States of America\"}, {\"iso_3166_1\": \"GB\", \"name\": \"United Kingdom\"}]   \n",
       "\n",
       "  release_date     revenue  runtime  \\\n",
       "0   2009-12-10  2787965087    162.0   \n",
       "\n",
       "                                                                        spoken_languages  \\\n",
       "0  [{\"iso_639_1\": \"en\", \"name\": \"English\"}, {\"iso_639_1\": \"es\", \"name\": \"Espa\\u00f1ol\"}]   \n",
       "\n",
       "     status                      tagline   title  vote_average  vote_count  \n",
       "0  Released  Enter the World of Pandora.  Avatar           7.2       11800  "
      ],
      "text/html": [
       "<div>\n",
       "<style scoped>\n",
       "    .dataframe tbody tr th:only-of-type {\n",
       "        vertical-align: middle;\n",
       "    }\n",
       "\n",
       "    .dataframe tbody tr th {\n",
       "        vertical-align: top;\n",
       "    }\n",
       "\n",
       "    .dataframe thead th {\n",
       "        text-align: right;\n",
       "    }\n",
       "</style>\n",
       "<table border=\"1\" class=\"dataframe\">\n",
       "  <thead>\n",
       "    <tr style=\"text-align: right;\">\n",
       "      <th></th>\n",
       "      <th>budget</th>\n",
       "      <th>genres</th>\n",
       "      <th>homepage</th>\n",
       "      <th>id</th>\n",
       "      <th>keywords</th>\n",
       "      <th>original_language</th>\n",
       "      <th>original_title</th>\n",
       "      <th>overview</th>\n",
       "      <th>popularity</th>\n",
       "      <th>production_companies</th>\n",
       "      <th>production_countries</th>\n",
       "      <th>release_date</th>\n",
       "      <th>revenue</th>\n",
       "      <th>runtime</th>\n",
       "      <th>spoken_languages</th>\n",
       "      <th>status</th>\n",
       "      <th>tagline</th>\n",
       "      <th>title</th>\n",
       "      <th>vote_average</th>\n",
       "      <th>vote_count</th>\n",
       "    </tr>\n",
       "  </thead>\n",
       "  <tbody>\n",
       "    <tr>\n",
       "      <th>0</th>\n",
       "      <td>237000000</td>\n",
       "      <td>[{\"id\": 28, \"name\": \"Action\"}, {\"id\": 12, \"name\": \"Adventure\"}, {\"id\": 14, \"name\": \"Fantasy\"}, {\"id\": 878, \"name\": \"Science Fiction\"}]</td>\n",
       "      <td>http://www.avatarmovie.com/</td>\n",
       "      <td>19995</td>\n",
       "      <td>[{\"id\": 1463, \"name\": \"culture clash\"}, {\"id\": 2964, \"name\": \"future\"}, {\"id\": 3386, \"name\": \"space war\"}, {\"id\": 3388, \"name\": \"space colony\"}, {\"id\": 3679, \"name\": \"society\"}, {\"id\": 3801, \"name\": \"space travel\"}, {\"id\": 9685, \"name\": \"futuristic\"}, {\"id\": 9840, \"name\": \"romance\"}, {\"id\": 9882, \"name\": \"space\"}, {\"id\": 9951, \"name\": \"alien\"}, {\"id\": 10148, \"name\": \"tribe\"}, {\"id\": 10158, \"name\": \"alien planet\"}, {\"id\": 10987, \"name\": \"cgi\"}, {\"id\": 11399, \"name\": \"marine\"}, {\"id\": 13065, \"name\": \"soldier\"}, {\"id\": 14643, \"name\": \"battle\"}, {\"id\": 14720, \"name\": \"love affair\"}, {\"id\": 165431, \"name\": \"anti war\"}, {\"id\": 193554, \"name\": \"power relations\"}, {\"id\": 206690, \"name\": \"mind and soul\"}, {\"id\": 209714, \"name\": \"3d\"}]</td>\n",
       "      <td>en</td>\n",
       "      <td>Avatar</td>\n",
       "      <td>In the 22nd century, a paraplegic Marine is dispatched to the moon Pandora on a unique mission, but becomes torn between following orders and protecting an alien civilization.</td>\n",
       "      <td>150.437577</td>\n",
       "      <td>[{\"name\": \"Ingenious Film Partners\", \"id\": 289}, {\"name\": \"Twentieth Century Fox Film Corporation\", \"id\": 306}, {\"name\": \"Dune Entertainment\", \"id\": 444}, {\"name\": \"Lightstorm Entertainment\", \"id\": 574}]</td>\n",
       "      <td>[{\"iso_3166_1\": \"US\", \"name\": \"United States of America\"}, {\"iso_3166_1\": \"GB\", \"name\": \"United Kingdom\"}]</td>\n",
       "      <td>2009-12-10</td>\n",
       "      <td>2787965087</td>\n",
       "      <td>162.0</td>\n",
       "      <td>[{\"iso_639_1\": \"en\", \"name\": \"English\"}, {\"iso_639_1\": \"es\", \"name\": \"Espa\\u00f1ol\"}]</td>\n",
       "      <td>Released</td>\n",
       "      <td>Enter the World of Pandora.</td>\n",
       "      <td>Avatar</td>\n",
       "      <td>7.2</td>\n",
       "      <td>11800</td>\n",
       "    </tr>\n",
       "  </tbody>\n",
       "</table>\n",
       "</div>"
      ]
     },
     "execution_count": 60,
     "metadata": {},
     "output_type": "execute_result"
    }
   ],
   "execution_count": 60
  },
  {
   "cell_type": "code",
   "id": "50679d2fd6b3b689",
   "metadata": {},
   "source": [
    "credit.head(1)['crew'].values"
   ],
   "outputs": [],
   "execution_count": null
  },
  {
   "cell_type": "markdown",
   "id": "a425330bb6157147",
   "metadata": {},
   "source": [
    "## Data Preprocessing"
   ]
  },
  {
   "cell_type": "markdown",
   "id": "dd96a141e8434b0e",
   "metadata": {},
   "source": [
    "### Merging two dataframes"
   ]
  },
  {
   "cell_type": "code",
   "id": "1a6fa46f8f618d39",
   "metadata": {
    "ExecuteTime": {
     "end_time": "2025-03-13T19:05:28.712328Z",
     "start_time": "2025-03-13T19:05:28.695910Z"
    }
   },
   "source": [
    "movies = movies.merge(credit, on='title')"
   ],
   "outputs": [],
   "execution_count": 62
  },
  {
   "cell_type": "code",
   "id": "b4dc9459038af794",
   "metadata": {
    "ExecuteTime": {
     "end_time": "2025-03-13T19:05:28.774800Z",
     "start_time": "2025-03-13T19:05:28.771022Z"
    }
   },
   "source": [
    "movies.shape"
   ],
   "outputs": [
    {
     "data": {
      "text/plain": [
       "(4809, 23)"
      ]
     },
     "execution_count": 63,
     "metadata": {},
     "output_type": "execute_result"
    }
   ],
   "execution_count": 63
  },
  {
   "cell_type": "markdown",
   "id": "21918a7b20371b5e",
   "metadata": {},
   "source": [
    "### Extracting Important Features"
   ]
  },
  {
   "cell_type": "code",
   "id": "9aea76759ae551dc",
   "metadata": {
    "ExecuteTime": {
     "end_time": "2025-03-13T19:05:28.811096Z",
     "start_time": "2025-03-13T19:05:28.806399Z"
    }
   },
   "source": [
    "movies = movies[['movie_id','title','overview','genres','keywords','cast','crew']]"
   ],
   "outputs": [],
   "execution_count": 64
  },
  {
   "cell_type": "markdown",
   "id": "63723234179e8bdc",
   "metadata": {},
   "source": [
    "### Finding and removing Missing Data"
   ]
  },
  {
   "cell_type": "code",
   "id": "f2f793901a5c0c4f",
   "metadata": {
    "ExecuteTime": {
     "end_time": "2025-03-13T19:05:28.836847Z",
     "start_time": "2025-03-13T19:05:28.832026Z"
    }
   },
   "source": [
    "movies.isnull().sum()"
   ],
   "outputs": [
    {
     "data": {
      "text/plain": [
       "movie_id    0\n",
       "title       0\n",
       "overview    3\n",
       "genres      0\n",
       "keywords    0\n",
       "cast        0\n",
       "crew        0\n",
       "dtype: int64"
      ]
     },
     "execution_count": 65,
     "metadata": {},
     "output_type": "execute_result"
    }
   ],
   "execution_count": 65
  },
  {
   "cell_type": "code",
   "id": "6f58992d579c01ea",
   "metadata": {
    "ExecuteTime": {
     "end_time": "2025-03-13T19:05:28.871797Z",
     "start_time": "2025-03-13T19:05:28.865645Z"
    }
   },
   "source": [
    "movies.dropna(inplace=True) # dropna removes missing rows in pandas dataframe and inplace true ensures removal is applied # directly to the original DataFrame rather than returning a new, modified copy.\n"
   ],
   "outputs": [],
   "execution_count": 66
  },
  {
   "cell_type": "code",
   "id": "bf8056046c9ee88a",
   "metadata": {
    "ExecuteTime": {
     "end_time": "2025-03-13T19:05:28.909660Z",
     "start_time": "2025-03-13T19:05:28.904453Z"
    }
   },
   "source": [
    "movies.isnull().sum()"
   ],
   "outputs": [
    {
     "data": {
      "text/plain": [
       "movie_id    0\n",
       "title       0\n",
       "overview    0\n",
       "genres      0\n",
       "keywords    0\n",
       "cast        0\n",
       "crew        0\n",
       "dtype: int64"
      ]
     },
     "execution_count": 67,
     "metadata": {},
     "output_type": "execute_result"
    }
   ],
   "execution_count": 67
  },
  {
   "cell_type": "code",
   "id": "472ea9b14af9a369",
   "metadata": {
    "ExecuteTime": {
     "end_time": "2025-03-13T19:05:28.976076Z",
     "start_time": "2025-03-13T19:05:28.972963Z"
    }
   },
   "source": [],
   "outputs": [],
   "execution_count": null
  },
  {
   "cell_type": "markdown",
   "id": "329b3372b45885a4",
   "metadata": {},
   "source": [
    "### Bringing columns like genre , keywords ,cast , crew in right format"
   ]
  },
  {
   "cell_type": "code",
   "id": "2dceec4c2c92a6d2",
   "metadata": {
    "ExecuteTime": {
     "end_time": "2025-03-13T19:05:29.028295Z",
     "start_time": "2025-03-13T19:05:29.022262Z"
    }
   },
   "source": [
    "movies.iloc[0].genres"
   ],
   "outputs": [
    {
     "data": {
      "text/plain": [
       "'[{\"id\": 28, \"name\": \"Action\"}, {\"id\": 12, \"name\": \"Adventure\"}, {\"id\": 14, \"name\": \"Fantasy\"}, {\"id\": 878, \"name\": \"Science Fiction\"}]'"
      ]
     },
     "execution_count": 68,
     "metadata": {},
     "output_type": "execute_result"
    }
   ],
   "execution_count": 68
  },
  {
   "cell_type": "markdown",
   "id": "4513616e9098e53",
   "metadata": {},
   "source": [
    "* The current format is a list of dictionary we need to bring it in list like [\"Action,\"Adventure\",\"SciFi\"]"
   ]
  },
  {
   "cell_type": "code",
   "id": "1adfdc843a7c8034",
   "metadata": {
    "ExecuteTime": {
     "end_time": "2025-03-13T19:05:29.074012Z",
     "start_time": "2025-03-13T19:05:29.071037Z"
    }
   },
   "source": [
    "import ast # as list is in string format we need to convert it to simple list format using literal_eval of ast module"
   ],
   "outputs": [],
   "execution_count": 69
  },
  {
   "cell_type": "code",
   "id": "f4612e75d90c6697",
   "metadata": {
    "ExecuteTime": {
     "end_time": "2025-03-13T19:05:29.114668Z",
     "start_time": "2025-03-13T19:05:29.110667Z"
    }
   },
   "source": [
    "def convert(obj):\n",
    "    L = []\n",
    "    for i in ast.literal_eval(obj):\n",
    "        L.append(i['name']) # append the value of ith name , value of name has key as genre\n",
    "    return L"
   ],
   "outputs": [],
   "execution_count": 70
  },
  {
   "cell_type": "code",
   "id": "f1ea23354e4068db",
   "metadata": {
    "ExecuteTime": {
     "end_time": "2025-03-13T19:05:29.280285Z",
     "start_time": "2025-03-13T19:05:29.118529Z"
    }
   },
   "source": [
    "movies['genres'] = movies['genres'].apply(convert) # apply() method in pandas lets you apply a custom function across each row or column of a DataFrame.\n"
   ],
   "outputs": [],
   "execution_count": 71
  },
  {
   "cell_type": "code",
   "id": "c2e8acbbc97ac37e",
   "metadata": {
    "ExecuteTime": {
     "end_time": "2025-03-13T19:05:29.295079Z",
     "start_time": "2025-03-13T19:05:29.289462Z"
    }
   },
   "source": [
    "movies.iloc[0].genres"
   ],
   "outputs": [
    {
     "data": {
      "text/plain": [
       "['Action', 'Adventure', 'Fantasy', 'Science Fiction']"
      ]
     },
     "execution_count": 72,
     "metadata": {},
     "output_type": "execute_result"
    }
   ],
   "execution_count": 72
  },
  {
   "cell_type": "markdown",
   "id": "409f9b7872bb87e8",
   "metadata": {},
   "source": [
    "* Doing Same for the keywords column"
   ]
  },
  {
   "cell_type": "code",
   "id": "6727735ffc34ec6a",
   "metadata": {
    "ExecuteTime": {
     "end_time": "2025-03-13T19:05:29.534516Z",
     "start_time": "2025-03-13T19:05:29.315616Z"
    }
   },
   "source": [
    "movies['keywords'] = movies['keywords'].apply(convert) # Applying same convert to keywords"
   ],
   "outputs": [],
   "execution_count": 73
  },
  {
   "cell_type": "markdown",
   "id": "e770402eec8750f1",
   "metadata": {},
   "source": [
    "* Converting Cast column same but here we only take top 3 cast , just modify convert function a bit to extracting first 3 dict in list giving us 1st three names"
   ]
  },
  {
   "cell_type": "code",
   "id": "10fbd74e7246c873",
   "metadata": {
    "ExecuteTime": {
     "end_time": "2025-03-13T19:05:29.547581Z",
     "start_time": "2025-03-13T19:05:29.543859Z"
    }
   },
   "source": [
    "def convert_cast(obj):\n",
    "    L = []\n",
    "    counter = 0\n",
    "    for i in ast.literal_eval(obj):\n",
    "        if counter != 3:\n",
    "            L.append(i['name']) # append the value of ith name , value of name has key as genre\n",
    "            counter += 1\n",
    "        else:\n",
    "            break\n",
    "    return L"
   ],
   "outputs": [],
   "execution_count": 74
  },
  {
   "cell_type": "code",
   "id": "708ddc37252f6133",
   "metadata": {
    "ExecuteTime": {
     "end_time": "2025-03-13T19:05:31.228321Z",
     "start_time": "2025-03-13T19:05:29.556139Z"
    }
   },
   "source": [
    "movies['cast'] = movies['cast'].apply(convert_cast)"
   ],
   "outputs": [],
   "execution_count": 75
  },
  {
   "cell_type": "code",
   "id": "25cc07d671a4115",
   "metadata": {},
   "source": [
    "movies.iloc[0].crew"
   ],
   "outputs": [],
   "execution_count": null
  },
  {
   "cell_type": "markdown",
   "id": "ab07827f6536f632",
   "metadata": {},
   "source": [
    "* For crew we fetch only that dictionary where job name is director"
   ]
  },
  {
   "cell_type": "code",
   "id": "683e3aef25ee62e8",
   "metadata": {
    "ExecuteTime": {
     "end_time": "2025-03-13T19:05:31.266946Z",
     "start_time": "2025-03-13T19:05:31.261783Z"
    }
   },
   "source": [
    "def fetch_director(obj):\n",
    "    L = []\n",
    "    for i in ast.literal_eval(obj):\n",
    "        if i['job'] == 'Director':\n",
    "            L.append(i['name']) # append the value of ith name , value of name has key as genre\n",
    "            break\n",
    "    return L"
   ],
   "outputs": [],
   "execution_count": 77
  },
  {
   "cell_type": "code",
   "id": "d6c28a9586e638e7",
   "metadata": {
    "ExecuteTime": {
     "end_time": "2025-03-13T19:05:33.162293Z",
     "start_time": "2025-03-13T19:05:31.300091Z"
    }
   },
   "source": [
    "movies['crew'] = movies['crew'].apply(fetch_director)"
   ],
   "outputs": [],
   "execution_count": 78
  },
  {
   "cell_type": "code",
   "id": "19e991b7dc7c4c44",
   "metadata": {
    "ExecuteTime": {
     "end_time": "2025-03-13T19:05:33.185378Z",
     "start_time": "2025-03-13T19:05:33.173769Z"
    }
   },
   "source": [
    "movies.head()"
   ],
   "outputs": [
    {
     "data": {
      "text/plain": [
       "   movie_id                                     title  \\\n",
       "0     19995                                    Avatar   \n",
       "1       285  Pirates of the Caribbean: At World's End   \n",
       "2    206647                                   Spectre   \n",
       "3     49026                     The Dark Knight Rises   \n",
       "4     49529                               John Carter   \n",
       "\n",
       "                                                                                                                                                                                                                                                                                                                                                                                                                                       overview  \\\n",
       "0                                                                                                                                                                                                                                                               In the 22nd century, a paraplegic Marine is dispatched to the moon Pandora on a unique mission, but becomes torn between following orders and protecting an alien civilization.   \n",
       "1                                                                                                                                                                                                                                                              Captain Barbossa, long believed to be dead, has come back to life and is headed to the edge of the Earth with Will Turner and Elizabeth Swann. But nothing is quite as it seems.   \n",
       "2                                                                                                                                                                                              A cryptic message from Bond’s past sends him on a trail to uncover a sinister organization. While M battles political forces to keep the secret service alive, Bond peels back the layers of deceit to reveal the terrible truth behind SPECTRE.   \n",
       "3  Following the death of District Attorney Harvey Dent, Batman assumes responsibility for Dent's crimes to protect the late attorney's reputation and is subsequently hunted by the Gotham City Police Department. Eight years later, Batman encounters the mysterious Selina Kyle and the villainous Bane, a new terrorist leader who overwhelms Gotham's finest. The Dark Knight resurfaces to protect a city that has branded him an enemy.   \n",
       "4                                                                                        John Carter is a war-weary, former military captain who's inexplicably transported to the mysterious and exotic planet of Barsoom (Mars) and reluctantly becomes embroiled in an epic conflict. It's a world on the brink of collapse, and Carter rediscovers his humanity when he realizes the survival of Barsoom and its people rests in his hands.   \n",
       "\n",
       "                                          genres  \\\n",
       "0  [Action, Adventure, Fantasy, Science Fiction]   \n",
       "1                   [Adventure, Fantasy, Action]   \n",
       "2                     [Action, Adventure, Crime]   \n",
       "3               [Action, Crime, Drama, Thriller]   \n",
       "4           [Action, Adventure, Science Fiction]   \n",
       "\n",
       "                                                                                                                                                                                                                                                   keywords  \\\n",
       "0                                  [culture clash, future, space war, space colony, society, space travel, futuristic, romance, space, alien, tribe, alien planet, cgi, marine, soldier, battle, love affair, anti war, power relations, mind and soul, 3d]   \n",
       "1                                              [ocean, drug abuse, exotic island, east india trading company, love of one's life, traitor, shipwreck, strong woman, ship, alliance, calypso, afterlife, fighter, pirate, swashbuckler, aftercreditsstinger]   \n",
       "2                                                                                                                                                                  [spy, based on novel, secret agent, sequel, mi6, british secret service, united kingdom]   \n",
       "3  [dc comics, crime fighter, terrorist, secret identity, burglar, hostage drama, time bomb, gotham city, vigilante, cover-up, superhero, villainess, tragic hero, terrorism, destruction, catwoman, cat burglar, imax, flood, criminal underworld, batman]   \n",
       "4                                                [based on novel, mars, medallion, space travel, princess, alien, steampunk, martian, escape, edgar rice burroughs, alien race, superhuman strength, mars civilization, sword and planet, 19th century, 3d]   \n",
       "\n",
       "                                               cast                 crew  \n",
       "0  [Sam Worthington, Zoe Saldana, Sigourney Weaver]      [James Cameron]  \n",
       "1     [Johnny Depp, Orlando Bloom, Keira Knightley]     [Gore Verbinski]  \n",
       "2      [Daniel Craig, Christoph Waltz, Léa Seydoux]         [Sam Mendes]  \n",
       "3      [Christian Bale, Michael Caine, Gary Oldman]  [Christopher Nolan]  \n",
       "4    [Taylor Kitsch, Lynn Collins, Samantha Morton]     [Andrew Stanton]  "
      ],
      "text/html": [
       "<div>\n",
       "<style scoped>\n",
       "    .dataframe tbody tr th:only-of-type {\n",
       "        vertical-align: middle;\n",
       "    }\n",
       "\n",
       "    .dataframe tbody tr th {\n",
       "        vertical-align: top;\n",
       "    }\n",
       "\n",
       "    .dataframe thead th {\n",
       "        text-align: right;\n",
       "    }\n",
       "</style>\n",
       "<table border=\"1\" class=\"dataframe\">\n",
       "  <thead>\n",
       "    <tr style=\"text-align: right;\">\n",
       "      <th></th>\n",
       "      <th>movie_id</th>\n",
       "      <th>title</th>\n",
       "      <th>overview</th>\n",
       "      <th>genres</th>\n",
       "      <th>keywords</th>\n",
       "      <th>cast</th>\n",
       "      <th>crew</th>\n",
       "    </tr>\n",
       "  </thead>\n",
       "  <tbody>\n",
       "    <tr>\n",
       "      <th>0</th>\n",
       "      <td>19995</td>\n",
       "      <td>Avatar</td>\n",
       "      <td>In the 22nd century, a paraplegic Marine is dispatched to the moon Pandora on a unique mission, but becomes torn between following orders and protecting an alien civilization.</td>\n",
       "      <td>[Action, Adventure, Fantasy, Science Fiction]</td>\n",
       "      <td>[culture clash, future, space war, space colony, society, space travel, futuristic, romance, space, alien, tribe, alien planet, cgi, marine, soldier, battle, love affair, anti war, power relations, mind and soul, 3d]</td>\n",
       "      <td>[Sam Worthington, Zoe Saldana, Sigourney Weaver]</td>\n",
       "      <td>[James Cameron]</td>\n",
       "    </tr>\n",
       "    <tr>\n",
       "      <th>1</th>\n",
       "      <td>285</td>\n",
       "      <td>Pirates of the Caribbean: At World's End</td>\n",
       "      <td>Captain Barbossa, long believed to be dead, has come back to life and is headed to the edge of the Earth with Will Turner and Elizabeth Swann. But nothing is quite as it seems.</td>\n",
       "      <td>[Adventure, Fantasy, Action]</td>\n",
       "      <td>[ocean, drug abuse, exotic island, east india trading company, love of one's life, traitor, shipwreck, strong woman, ship, alliance, calypso, afterlife, fighter, pirate, swashbuckler, aftercreditsstinger]</td>\n",
       "      <td>[Johnny Depp, Orlando Bloom, Keira Knightley]</td>\n",
       "      <td>[Gore Verbinski]</td>\n",
       "    </tr>\n",
       "    <tr>\n",
       "      <th>2</th>\n",
       "      <td>206647</td>\n",
       "      <td>Spectre</td>\n",
       "      <td>A cryptic message from Bond’s past sends him on a trail to uncover a sinister organization. While M battles political forces to keep the secret service alive, Bond peels back the layers of deceit to reveal the terrible truth behind SPECTRE.</td>\n",
       "      <td>[Action, Adventure, Crime]</td>\n",
       "      <td>[spy, based on novel, secret agent, sequel, mi6, british secret service, united kingdom]</td>\n",
       "      <td>[Daniel Craig, Christoph Waltz, Léa Seydoux]</td>\n",
       "      <td>[Sam Mendes]</td>\n",
       "    </tr>\n",
       "    <tr>\n",
       "      <th>3</th>\n",
       "      <td>49026</td>\n",
       "      <td>The Dark Knight Rises</td>\n",
       "      <td>Following the death of District Attorney Harvey Dent, Batman assumes responsibility for Dent's crimes to protect the late attorney's reputation and is subsequently hunted by the Gotham City Police Department. Eight years later, Batman encounters the mysterious Selina Kyle and the villainous Bane, a new terrorist leader who overwhelms Gotham's finest. The Dark Knight resurfaces to protect a city that has branded him an enemy.</td>\n",
       "      <td>[Action, Crime, Drama, Thriller]</td>\n",
       "      <td>[dc comics, crime fighter, terrorist, secret identity, burglar, hostage drama, time bomb, gotham city, vigilante, cover-up, superhero, villainess, tragic hero, terrorism, destruction, catwoman, cat burglar, imax, flood, criminal underworld, batman]</td>\n",
       "      <td>[Christian Bale, Michael Caine, Gary Oldman]</td>\n",
       "      <td>[Christopher Nolan]</td>\n",
       "    </tr>\n",
       "    <tr>\n",
       "      <th>4</th>\n",
       "      <td>49529</td>\n",
       "      <td>John Carter</td>\n",
       "      <td>John Carter is a war-weary, former military captain who's inexplicably transported to the mysterious and exotic planet of Barsoom (Mars) and reluctantly becomes embroiled in an epic conflict. It's a world on the brink of collapse, and Carter rediscovers his humanity when he realizes the survival of Barsoom and its people rests in his hands.</td>\n",
       "      <td>[Action, Adventure, Science Fiction]</td>\n",
       "      <td>[based on novel, mars, medallion, space travel, princess, alien, steampunk, martian, escape, edgar rice burroughs, alien race, superhuman strength, mars civilization, sword and planet, 19th century, 3d]</td>\n",
       "      <td>[Taylor Kitsch, Lynn Collins, Samantha Morton]</td>\n",
       "      <td>[Andrew Stanton]</td>\n",
       "    </tr>\n",
       "  </tbody>\n",
       "</table>\n",
       "</div>"
      ]
     },
     "execution_count": 79,
     "metadata": {},
     "output_type": "execute_result"
    }
   ],
   "execution_count": 79
  },
  {
   "cell_type": "markdown",
   "id": "afff1f4f651cc262",
   "metadata": {},
   "source": [
    "* Converting Overview column to lists as well so it will be easy to concate overview,cast,crew,genre etc in single list"
   ]
  },
  {
   "cell_type": "code",
   "id": "a85abaaa9f07ae93",
   "metadata": {
    "ExecuteTime": {
     "end_time": "2025-03-13T19:05:33.240847Z",
     "start_time": "2025-03-13T19:05:33.222239Z"
    }
   },
   "source": [
    "movies['overview'] = movies['overview'].apply(lambda x:x.split()) # This is an anonymous function that takes an input (x) and uses the built-in str.split() method to split the string into a list of its space-separated parts.\n"
   ],
   "outputs": [],
   "execution_count": 80
  },
  {
   "cell_type": "code",
   "id": "a2969132afda41f1",
   "metadata": {
    "ExecuteTime": {
     "end_time": "2025-03-13T19:05:33.270389Z",
     "start_time": "2025-03-13T19:05:33.261008Z"
    }
   },
   "source": [
    "movies.head()"
   ],
   "outputs": [
    {
     "data": {
      "text/plain": [
       "   movie_id                                     title  \\\n",
       "0     19995                                    Avatar   \n",
       "1       285  Pirates of the Caribbean: At World's End   \n",
       "2    206647                                   Spectre   \n",
       "3     49026                     The Dark Knight Rises   \n",
       "4     49529                               John Carter   \n",
       "\n",
       "                                                                                                                                                                                                                                                                                                                                                                                                                                                                                                         overview  \\\n",
       "0                                                                                                                                                                                                                                                                                                    [In, the, 22nd, century,, a, paraplegic, Marine, is, dispatched, to, the, moon, Pandora, on, a, unique, mission,, but, becomes, torn, between, following, orders, and, protecting, an, alien, civilization.]   \n",
       "1                                                                                                                                                                                                                                                                                             [Captain, Barbossa,, long, believed, to, be, dead,, has, come, back, to, life, and, is, headed, to, the, edge, of, the, Earth, with, Will, Turner, and, Elizabeth, Swann., But, nothing, is, quite, as, it, seems.]   \n",
       "2                                                                                                                                                                                                                      [A, cryptic, message, from, Bond’s, past, sends, him, on, a, trail, to, uncover, a, sinister, organization., While, M, battles, political, forces, to, keep, the, secret, service, alive,, Bond, peels, back, the, layers, of, deceit, to, reveal, the, terrible, truth, behind, SPECTRE.]   \n",
       "3  [Following, the, death, of, District, Attorney, Harvey, Dent,, Batman, assumes, responsibility, for, Dent's, crimes, to, protect, the, late, attorney's, reputation, and, is, subsequently, hunted, by, the, Gotham, City, Police, Department., Eight, years, later,, Batman, encounters, the, mysterious, Selina, Kyle, and, the, villainous, Bane,, a, new, terrorist, leader, who, overwhelms, Gotham's, finest., The, Dark, Knight, resurfaces, to, protect, a, city, that, has, branded, him, an, enemy.]   \n",
       "4                                                                                                  [John, Carter, is, a, war-weary,, former, military, captain, who's, inexplicably, transported, to, the, mysterious, and, exotic, planet, of, Barsoom, (Mars), and, reluctantly, becomes, embroiled, in, an, epic, conflict., It's, a, world, on, the, brink, of, collapse,, and, Carter, rediscovers, his, humanity, when, he, realizes, the, survival, of, Barsoom, and, its, people, rests, in, his, hands.]   \n",
       "\n",
       "                                          genres  \\\n",
       "0  [Action, Adventure, Fantasy, Science Fiction]   \n",
       "1                   [Adventure, Fantasy, Action]   \n",
       "2                     [Action, Adventure, Crime]   \n",
       "3               [Action, Crime, Drama, Thriller]   \n",
       "4           [Action, Adventure, Science Fiction]   \n",
       "\n",
       "                                                                                                                                                                                                                                                   keywords  \\\n",
       "0                                  [culture clash, future, space war, space colony, society, space travel, futuristic, romance, space, alien, tribe, alien planet, cgi, marine, soldier, battle, love affair, anti war, power relations, mind and soul, 3d]   \n",
       "1                                              [ocean, drug abuse, exotic island, east india trading company, love of one's life, traitor, shipwreck, strong woman, ship, alliance, calypso, afterlife, fighter, pirate, swashbuckler, aftercreditsstinger]   \n",
       "2                                                                                                                                                                  [spy, based on novel, secret agent, sequel, mi6, british secret service, united kingdom]   \n",
       "3  [dc comics, crime fighter, terrorist, secret identity, burglar, hostage drama, time bomb, gotham city, vigilante, cover-up, superhero, villainess, tragic hero, terrorism, destruction, catwoman, cat burglar, imax, flood, criminal underworld, batman]   \n",
       "4                                                [based on novel, mars, medallion, space travel, princess, alien, steampunk, martian, escape, edgar rice burroughs, alien race, superhuman strength, mars civilization, sword and planet, 19th century, 3d]   \n",
       "\n",
       "                                               cast                 crew  \n",
       "0  [Sam Worthington, Zoe Saldana, Sigourney Weaver]      [James Cameron]  \n",
       "1     [Johnny Depp, Orlando Bloom, Keira Knightley]     [Gore Verbinski]  \n",
       "2      [Daniel Craig, Christoph Waltz, Léa Seydoux]         [Sam Mendes]  \n",
       "3      [Christian Bale, Michael Caine, Gary Oldman]  [Christopher Nolan]  \n",
       "4    [Taylor Kitsch, Lynn Collins, Samantha Morton]     [Andrew Stanton]  "
      ],
      "text/html": [
       "<div>\n",
       "<style scoped>\n",
       "    .dataframe tbody tr th:only-of-type {\n",
       "        vertical-align: middle;\n",
       "    }\n",
       "\n",
       "    .dataframe tbody tr th {\n",
       "        vertical-align: top;\n",
       "    }\n",
       "\n",
       "    .dataframe thead th {\n",
       "        text-align: right;\n",
       "    }\n",
       "</style>\n",
       "<table border=\"1\" class=\"dataframe\">\n",
       "  <thead>\n",
       "    <tr style=\"text-align: right;\">\n",
       "      <th></th>\n",
       "      <th>movie_id</th>\n",
       "      <th>title</th>\n",
       "      <th>overview</th>\n",
       "      <th>genres</th>\n",
       "      <th>keywords</th>\n",
       "      <th>cast</th>\n",
       "      <th>crew</th>\n",
       "    </tr>\n",
       "  </thead>\n",
       "  <tbody>\n",
       "    <tr>\n",
       "      <th>0</th>\n",
       "      <td>19995</td>\n",
       "      <td>Avatar</td>\n",
       "      <td>[In, the, 22nd, century,, a, paraplegic, Marine, is, dispatched, to, the, moon, Pandora, on, a, unique, mission,, but, becomes, torn, between, following, orders, and, protecting, an, alien, civilization.]</td>\n",
       "      <td>[Action, Adventure, Fantasy, Science Fiction]</td>\n",
       "      <td>[culture clash, future, space war, space colony, society, space travel, futuristic, romance, space, alien, tribe, alien planet, cgi, marine, soldier, battle, love affair, anti war, power relations, mind and soul, 3d]</td>\n",
       "      <td>[Sam Worthington, Zoe Saldana, Sigourney Weaver]</td>\n",
       "      <td>[James Cameron]</td>\n",
       "    </tr>\n",
       "    <tr>\n",
       "      <th>1</th>\n",
       "      <td>285</td>\n",
       "      <td>Pirates of the Caribbean: At World's End</td>\n",
       "      <td>[Captain, Barbossa,, long, believed, to, be, dead,, has, come, back, to, life, and, is, headed, to, the, edge, of, the, Earth, with, Will, Turner, and, Elizabeth, Swann., But, nothing, is, quite, as, it, seems.]</td>\n",
       "      <td>[Adventure, Fantasy, Action]</td>\n",
       "      <td>[ocean, drug abuse, exotic island, east india trading company, love of one's life, traitor, shipwreck, strong woman, ship, alliance, calypso, afterlife, fighter, pirate, swashbuckler, aftercreditsstinger]</td>\n",
       "      <td>[Johnny Depp, Orlando Bloom, Keira Knightley]</td>\n",
       "      <td>[Gore Verbinski]</td>\n",
       "    </tr>\n",
       "    <tr>\n",
       "      <th>2</th>\n",
       "      <td>206647</td>\n",
       "      <td>Spectre</td>\n",
       "      <td>[A, cryptic, message, from, Bond’s, past, sends, him, on, a, trail, to, uncover, a, sinister, organization., While, M, battles, political, forces, to, keep, the, secret, service, alive,, Bond, peels, back, the, layers, of, deceit, to, reveal, the, terrible, truth, behind, SPECTRE.]</td>\n",
       "      <td>[Action, Adventure, Crime]</td>\n",
       "      <td>[spy, based on novel, secret agent, sequel, mi6, british secret service, united kingdom]</td>\n",
       "      <td>[Daniel Craig, Christoph Waltz, Léa Seydoux]</td>\n",
       "      <td>[Sam Mendes]</td>\n",
       "    </tr>\n",
       "    <tr>\n",
       "      <th>3</th>\n",
       "      <td>49026</td>\n",
       "      <td>The Dark Knight Rises</td>\n",
       "      <td>[Following, the, death, of, District, Attorney, Harvey, Dent,, Batman, assumes, responsibility, for, Dent's, crimes, to, protect, the, late, attorney's, reputation, and, is, subsequently, hunted, by, the, Gotham, City, Police, Department., Eight, years, later,, Batman, encounters, the, mysterious, Selina, Kyle, and, the, villainous, Bane,, a, new, terrorist, leader, who, overwhelms, Gotham's, finest., The, Dark, Knight, resurfaces, to, protect, a, city, that, has, branded, him, an, enemy.]</td>\n",
       "      <td>[Action, Crime, Drama, Thriller]</td>\n",
       "      <td>[dc comics, crime fighter, terrorist, secret identity, burglar, hostage drama, time bomb, gotham city, vigilante, cover-up, superhero, villainess, tragic hero, terrorism, destruction, catwoman, cat burglar, imax, flood, criminal underworld, batman]</td>\n",
       "      <td>[Christian Bale, Michael Caine, Gary Oldman]</td>\n",
       "      <td>[Christopher Nolan]</td>\n",
       "    </tr>\n",
       "    <tr>\n",
       "      <th>4</th>\n",
       "      <td>49529</td>\n",
       "      <td>John Carter</td>\n",
       "      <td>[John, Carter, is, a, war-weary,, former, military, captain, who's, inexplicably, transported, to, the, mysterious, and, exotic, planet, of, Barsoom, (Mars), and, reluctantly, becomes, embroiled, in, an, epic, conflict., It's, a, world, on, the, brink, of, collapse,, and, Carter, rediscovers, his, humanity, when, he, realizes, the, survival, of, Barsoom, and, its, people, rests, in, his, hands.]</td>\n",
       "      <td>[Action, Adventure, Science Fiction]</td>\n",
       "      <td>[based on novel, mars, medallion, space travel, princess, alien, steampunk, martian, escape, edgar rice burroughs, alien race, superhuman strength, mars civilization, sword and planet, 19th century, 3d]</td>\n",
       "      <td>[Taylor Kitsch, Lynn Collins, Samantha Morton]</td>\n",
       "      <td>[Andrew Stanton]</td>\n",
       "    </tr>\n",
       "  </tbody>\n",
       "</table>\n",
       "</div>"
      ]
     },
     "execution_count": 81,
     "metadata": {},
     "output_type": "execute_result"
    }
   ],
   "execution_count": 81
  },
  {
   "cell_type": "markdown",
   "id": "e5122d6a83f9e32d",
   "metadata": {},
   "source": [
    "### Remove space between words in genre , cast columns etc"
   ]
  },
  {
   "cell_type": "markdown",
   "id": "73e6327e6ad948b1",
   "metadata": {},
   "source": [
    "* like Sam Worthington becomes SamWorthington as if space is there Sam and Worthington Will be Treated as different entity by Recommender though it is name of same person same for words like Science Fiction"
   ]
  },
  {
   "cell_type": "code",
   "id": "6812b92ad450911f",
   "metadata": {
    "ExecuteTime": {
     "end_time": "2025-03-13T19:05:33.339569Z",
     "start_time": "2025-03-13T19:05:33.324599Z"
    }
   },
   "source": [
    "movies['genres'] = movies['genres'].apply(lambda x:[i.replace(\" \",\"\") for i in x])\n",
    "movies['keywords'] = movies['keywords'].apply(lambda x:[i.replace(\" \",\"\") for i in x])\n",
    "movies['cast'] = movies['cast'].apply(lambda x:[i.replace(\" \",\"\") for i in x])\n",
    "movies['crew'] = movies['crew'].apply(lambda x:[i.replace(\" \",\"\") for i in x])\n"
   ],
   "outputs": [],
   "execution_count": 82
  },
  {
   "cell_type": "code",
   "id": "81240be0828dbf52",
   "metadata": {
    "ExecuteTime": {
     "end_time": "2025-03-13T19:05:33.380333Z",
     "start_time": "2025-03-13T19:05:33.370155Z"
    }
   },
   "source": [
    "movies.head()"
   ],
   "outputs": [
    {
     "data": {
      "text/plain": [
       "   movie_id                                     title  \\\n",
       "0     19995                                    Avatar   \n",
       "1       285  Pirates of the Caribbean: At World's End   \n",
       "2    206647                                   Spectre   \n",
       "3     49026                     The Dark Knight Rises   \n",
       "4     49529                               John Carter   \n",
       "\n",
       "                                                                                                                                                                                                                                                                                                                                                                                                                                                                                                         overview  \\\n",
       "0                                                                                                                                                                                                                                                                                                    [In, the, 22nd, century,, a, paraplegic, Marine, is, dispatched, to, the, moon, Pandora, on, a, unique, mission,, but, becomes, torn, between, following, orders, and, protecting, an, alien, civilization.]   \n",
       "1                                                                                                                                                                                                                                                                                             [Captain, Barbossa,, long, believed, to, be, dead,, has, come, back, to, life, and, is, headed, to, the, edge, of, the, Earth, with, Will, Turner, and, Elizabeth, Swann., But, nothing, is, quite, as, it, seems.]   \n",
       "2                                                                                                                                                                                                                      [A, cryptic, message, from, Bond’s, past, sends, him, on, a, trail, to, uncover, a, sinister, organization., While, M, battles, political, forces, to, keep, the, secret, service, alive,, Bond, peels, back, the, layers, of, deceit, to, reveal, the, terrible, truth, behind, SPECTRE.]   \n",
       "3  [Following, the, death, of, District, Attorney, Harvey, Dent,, Batman, assumes, responsibility, for, Dent's, crimes, to, protect, the, late, attorney's, reputation, and, is, subsequently, hunted, by, the, Gotham, City, Police, Department., Eight, years, later,, Batman, encounters, the, mysterious, Selina, Kyle, and, the, villainous, Bane,, a, new, terrorist, leader, who, overwhelms, Gotham's, finest., The, Dark, Knight, resurfaces, to, protect, a, city, that, has, branded, him, an, enemy.]   \n",
       "4                                                                                                  [John, Carter, is, a, war-weary,, former, military, captain, who's, inexplicably, transported, to, the, mysterious, and, exotic, planet, of, Barsoom, (Mars), and, reluctantly, becomes, embroiled, in, an, epic, conflict., It's, a, world, on, the, brink, of, collapse,, and, Carter, rediscovers, his, humanity, when, he, realizes, the, survival, of, Barsoom, and, its, people, rests, in, his, hands.]   \n",
       "\n",
       "                                         genres  \\\n",
       "0  [Action, Adventure, Fantasy, ScienceFiction]   \n",
       "1                  [Adventure, Fantasy, Action]   \n",
       "2                    [Action, Adventure, Crime]   \n",
       "3              [Action, Crime, Drama, Thriller]   \n",
       "4           [Action, Adventure, ScienceFiction]   \n",
       "\n",
       "                                                                                                                                                                                                                                          keywords  \\\n",
       "0                                   [cultureclash, future, spacewar, spacecolony, society, spacetravel, futuristic, romance, space, alien, tribe, alienplanet, cgi, marine, soldier, battle, loveaffair, antiwar, powerrelations, mindandsoul, 3d]   \n",
       "1                                              [ocean, drugabuse, exoticisland, eastindiatradingcompany, loveofone'slife, traitor, shipwreck, strongwoman, ship, alliance, calypso, afterlife, fighter, pirate, swashbuckler, aftercreditsstinger]   \n",
       "2                                                                                                                                                               [spy, basedonnovel, secretagent, sequel, mi6, britishsecretservice, unitedkingdom]   \n",
       "3  [dccomics, crimefighter, terrorist, secretidentity, burglar, hostagedrama, timebomb, gothamcity, vigilante, cover-up, superhero, villainess, tragichero, terrorism, destruction, catwoman, catburglar, imax, flood, criminalunderworld, batman]   \n",
       "4                                                  [basedonnovel, mars, medallion, spacetravel, princess, alien, steampunk, martian, escape, edgarriceburroughs, alienrace, superhumanstrength, marscivilization, swordandplanet, 19thcentury, 3d]   \n",
       "\n",
       "                                            cast                crew  \n",
       "0  [SamWorthington, ZoeSaldana, SigourneyWeaver]      [JamesCameron]  \n",
       "1     [JohnnyDepp, OrlandoBloom, KeiraKnightley]     [GoreVerbinski]  \n",
       "2      [DanielCraig, ChristophWaltz, LéaSeydoux]         [SamMendes]  \n",
       "3      [ChristianBale, MichaelCaine, GaryOldman]  [ChristopherNolan]  \n",
       "4    [TaylorKitsch, LynnCollins, SamanthaMorton]     [AndrewStanton]  "
      ],
      "text/html": [
       "<div>\n",
       "<style scoped>\n",
       "    .dataframe tbody tr th:only-of-type {\n",
       "        vertical-align: middle;\n",
       "    }\n",
       "\n",
       "    .dataframe tbody tr th {\n",
       "        vertical-align: top;\n",
       "    }\n",
       "\n",
       "    .dataframe thead th {\n",
       "        text-align: right;\n",
       "    }\n",
       "</style>\n",
       "<table border=\"1\" class=\"dataframe\">\n",
       "  <thead>\n",
       "    <tr style=\"text-align: right;\">\n",
       "      <th></th>\n",
       "      <th>movie_id</th>\n",
       "      <th>title</th>\n",
       "      <th>overview</th>\n",
       "      <th>genres</th>\n",
       "      <th>keywords</th>\n",
       "      <th>cast</th>\n",
       "      <th>crew</th>\n",
       "    </tr>\n",
       "  </thead>\n",
       "  <tbody>\n",
       "    <tr>\n",
       "      <th>0</th>\n",
       "      <td>19995</td>\n",
       "      <td>Avatar</td>\n",
       "      <td>[In, the, 22nd, century,, a, paraplegic, Marine, is, dispatched, to, the, moon, Pandora, on, a, unique, mission,, but, becomes, torn, between, following, orders, and, protecting, an, alien, civilization.]</td>\n",
       "      <td>[Action, Adventure, Fantasy, ScienceFiction]</td>\n",
       "      <td>[cultureclash, future, spacewar, spacecolony, society, spacetravel, futuristic, romance, space, alien, tribe, alienplanet, cgi, marine, soldier, battle, loveaffair, antiwar, powerrelations, mindandsoul, 3d]</td>\n",
       "      <td>[SamWorthington, ZoeSaldana, SigourneyWeaver]</td>\n",
       "      <td>[JamesCameron]</td>\n",
       "    </tr>\n",
       "    <tr>\n",
       "      <th>1</th>\n",
       "      <td>285</td>\n",
       "      <td>Pirates of the Caribbean: At World's End</td>\n",
       "      <td>[Captain, Barbossa,, long, believed, to, be, dead,, has, come, back, to, life, and, is, headed, to, the, edge, of, the, Earth, with, Will, Turner, and, Elizabeth, Swann., But, nothing, is, quite, as, it, seems.]</td>\n",
       "      <td>[Adventure, Fantasy, Action]</td>\n",
       "      <td>[ocean, drugabuse, exoticisland, eastindiatradingcompany, loveofone'slife, traitor, shipwreck, strongwoman, ship, alliance, calypso, afterlife, fighter, pirate, swashbuckler, aftercreditsstinger]</td>\n",
       "      <td>[JohnnyDepp, OrlandoBloom, KeiraKnightley]</td>\n",
       "      <td>[GoreVerbinski]</td>\n",
       "    </tr>\n",
       "    <tr>\n",
       "      <th>2</th>\n",
       "      <td>206647</td>\n",
       "      <td>Spectre</td>\n",
       "      <td>[A, cryptic, message, from, Bond’s, past, sends, him, on, a, trail, to, uncover, a, sinister, organization., While, M, battles, political, forces, to, keep, the, secret, service, alive,, Bond, peels, back, the, layers, of, deceit, to, reveal, the, terrible, truth, behind, SPECTRE.]</td>\n",
       "      <td>[Action, Adventure, Crime]</td>\n",
       "      <td>[spy, basedonnovel, secretagent, sequel, mi6, britishsecretservice, unitedkingdom]</td>\n",
       "      <td>[DanielCraig, ChristophWaltz, LéaSeydoux]</td>\n",
       "      <td>[SamMendes]</td>\n",
       "    </tr>\n",
       "    <tr>\n",
       "      <th>3</th>\n",
       "      <td>49026</td>\n",
       "      <td>The Dark Knight Rises</td>\n",
       "      <td>[Following, the, death, of, District, Attorney, Harvey, Dent,, Batman, assumes, responsibility, for, Dent's, crimes, to, protect, the, late, attorney's, reputation, and, is, subsequently, hunted, by, the, Gotham, City, Police, Department., Eight, years, later,, Batman, encounters, the, mysterious, Selina, Kyle, and, the, villainous, Bane,, a, new, terrorist, leader, who, overwhelms, Gotham's, finest., The, Dark, Knight, resurfaces, to, protect, a, city, that, has, branded, him, an, enemy.]</td>\n",
       "      <td>[Action, Crime, Drama, Thriller]</td>\n",
       "      <td>[dccomics, crimefighter, terrorist, secretidentity, burglar, hostagedrama, timebomb, gothamcity, vigilante, cover-up, superhero, villainess, tragichero, terrorism, destruction, catwoman, catburglar, imax, flood, criminalunderworld, batman]</td>\n",
       "      <td>[ChristianBale, MichaelCaine, GaryOldman]</td>\n",
       "      <td>[ChristopherNolan]</td>\n",
       "    </tr>\n",
       "    <tr>\n",
       "      <th>4</th>\n",
       "      <td>49529</td>\n",
       "      <td>John Carter</td>\n",
       "      <td>[John, Carter, is, a, war-weary,, former, military, captain, who's, inexplicably, transported, to, the, mysterious, and, exotic, planet, of, Barsoom, (Mars), and, reluctantly, becomes, embroiled, in, an, epic, conflict., It's, a, world, on, the, brink, of, collapse,, and, Carter, rediscovers, his, humanity, when, he, realizes, the, survival, of, Barsoom, and, its, people, rests, in, his, hands.]</td>\n",
       "      <td>[Action, Adventure, ScienceFiction]</td>\n",
       "      <td>[basedonnovel, mars, medallion, spacetravel, princess, alien, steampunk, martian, escape, edgarriceburroughs, alienrace, superhumanstrength, marscivilization, swordandplanet, 19thcentury, 3d]</td>\n",
       "      <td>[TaylorKitsch, LynnCollins, SamanthaMorton]</td>\n",
       "      <td>[AndrewStanton]</td>\n",
       "    </tr>\n",
       "  </tbody>\n",
       "</table>\n",
       "</div>"
      ]
     },
     "execution_count": 83,
     "metadata": {},
     "output_type": "execute_result"
    }
   ],
   "execution_count": 83
  },
  {
   "cell_type": "markdown",
   "id": "26b9e6574b7c2620",
   "metadata": {},
   "source": [
    "### Combining overview genre keywords cast crew into a single column tags and making a new dataframe with movie_id , title and tags"
   ]
  },
  {
   "cell_type": "code",
   "id": "86578d786ca81cb2",
   "metadata": {
    "ExecuteTime": {
     "end_time": "2025-03-13T19:05:33.453848Z",
     "start_time": "2025-03-13T19:05:33.422622Z"
    }
   },
   "source": [
    "movies['tags'] = movies['overview'] + movies['genres'] + movies['keywords'] + movies['cast'] + movies['crew']"
   ],
   "outputs": [],
   "execution_count": 84
  },
  {
   "cell_type": "code",
   "id": "258540bf64ee2102",
   "metadata": {
    "ExecuteTime": {
     "end_time": "2025-03-13T19:05:33.493820Z",
     "start_time": "2025-03-13T19:05:33.475394Z"
    }
   },
   "source": [
    "new_movies = movies[['movie_id','title','tags']]"
   ],
   "outputs": [],
   "execution_count": 85
  },
  {
   "cell_type": "code",
   "id": "8a58bb4c36b3bdd8",
   "metadata": {
    "ExecuteTime": {
     "end_time": "2025-03-13T19:05:33.543748Z",
     "start_time": "2025-03-13T19:05:33.536567Z"
    }
   },
   "source": [
    "new_movies.head()"
   ],
   "outputs": [
    {
     "data": {
      "text/plain": [
       "   movie_id                                     title  \\\n",
       "0     19995                                    Avatar   \n",
       "1       285  Pirates of the Caribbean: At World's End   \n",
       "2    206647                                   Spectre   \n",
       "3     49026                     The Dark Knight Rises   \n",
       "4     49529                               John Carter   \n",
       "\n",
       "                                                                                                                                                                                                                                                                                                                                                                                                                                                                                                                                                                                                                                                                                                                                                                                                                                                       tags  \n",
       "0                                                                                                                                                                                                                                                                                                                         [In, the, 22nd, century,, a, paraplegic, Marine, is, dispatched, to, the, moon, Pandora, on, a, unique, mission,, but, becomes, torn, between, following, orders, and, protecting, an, alien, civilization., Action, Adventure, Fantasy, ScienceFiction, cultureclash, future, spacewar, spacecolony, society, spacetravel, futuristic, romance, space, alien, tribe, alienplanet, cgi, marine, soldier, battle, loveaffair, antiwar, powerrelations, mindandsoul, 3d, SamWorthington, ZoeSaldana, SigourneyWeaver, JamesCameron]  \n",
       "1                                                                                                                                                                                                                                                                                                                                               [Captain, Barbossa,, long, believed, to, be, dead,, has, come, back, to, life, and, is, headed, to, the, edge, of, the, Earth, with, Will, Turner, and, Elizabeth, Swann., But, nothing, is, quite, as, it, seems., Adventure, Fantasy, Action, ocean, drugabuse, exoticisland, eastindiatradingcompany, loveofone'slife, traitor, shipwreck, strongwoman, ship, alliance, calypso, afterlife, fighter, pirate, swashbuckler, aftercreditsstinger, JohnnyDepp, OrlandoBloom, KeiraKnightley, GoreVerbinski]  \n",
       "2                                                                                                                                                                                                                                                                                                                                                                                                [A, cryptic, message, from, Bond’s, past, sends, him, on, a, trail, to, uncover, a, sinister, organization., While, M, battles, political, forces, to, keep, the, secret, service, alive,, Bond, peels, back, the, layers, of, deceit, to, reveal, the, terrible, truth, behind, SPECTRE., Action, Adventure, Crime, spy, basedonnovel, secretagent, sequel, mi6, britishsecretservice, unitedkingdom, DanielCraig, ChristophWaltz, LéaSeydoux, SamMendes]  \n",
       "3  [Following, the, death, of, District, Attorney, Harvey, Dent,, Batman, assumes, responsibility, for, Dent's, crimes, to, protect, the, late, attorney's, reputation, and, is, subsequently, hunted, by, the, Gotham, City, Police, Department., Eight, years, later,, Batman, encounters, the, mysterious, Selina, Kyle, and, the, villainous, Bane,, a, new, terrorist, leader, who, overwhelms, Gotham's, finest., The, Dark, Knight, resurfaces, to, protect, a, city, that, has, branded, him, an, enemy., Action, Crime, Drama, Thriller, dccomics, crimefighter, terrorist, secretidentity, burglar, hostagedrama, timebomb, gothamcity, vigilante, cover-up, superhero, villainess, tragichero, terrorism, destruction, catwoman, catburglar, imax, flood, criminalunderworld, batman, ChristianBale, MichaelCaine, GaryOldman, ChristopherNolan]  \n",
       "4                                                                                                                                                [John, Carter, is, a, war-weary,, former, military, captain, who's, inexplicably, transported, to, the, mysterious, and, exotic, planet, of, Barsoom, (Mars), and, reluctantly, becomes, embroiled, in, an, epic, conflict., It's, a, world, on, the, brink, of, collapse,, and, Carter, rediscovers, his, humanity, when, he, realizes, the, survival, of, Barsoom, and, its, people, rests, in, his, hands., Action, Adventure, ScienceFiction, basedonnovel, mars, medallion, spacetravel, princess, alien, steampunk, martian, escape, edgarriceburroughs, alienrace, superhumanstrength, marscivilization, swordandplanet, 19thcentury, 3d, TaylorKitsch, LynnCollins, SamanthaMorton, AndrewStanton]  "
      ],
      "text/html": [
       "<div>\n",
       "<style scoped>\n",
       "    .dataframe tbody tr th:only-of-type {\n",
       "        vertical-align: middle;\n",
       "    }\n",
       "\n",
       "    .dataframe tbody tr th {\n",
       "        vertical-align: top;\n",
       "    }\n",
       "\n",
       "    .dataframe thead th {\n",
       "        text-align: right;\n",
       "    }\n",
       "</style>\n",
       "<table border=\"1\" class=\"dataframe\">\n",
       "  <thead>\n",
       "    <tr style=\"text-align: right;\">\n",
       "      <th></th>\n",
       "      <th>movie_id</th>\n",
       "      <th>title</th>\n",
       "      <th>tags</th>\n",
       "    </tr>\n",
       "  </thead>\n",
       "  <tbody>\n",
       "    <tr>\n",
       "      <th>0</th>\n",
       "      <td>19995</td>\n",
       "      <td>Avatar</td>\n",
       "      <td>[In, the, 22nd, century,, a, paraplegic, Marine, is, dispatched, to, the, moon, Pandora, on, a, unique, mission,, but, becomes, torn, between, following, orders, and, protecting, an, alien, civilization., Action, Adventure, Fantasy, ScienceFiction, cultureclash, future, spacewar, spacecolony, society, spacetravel, futuristic, romance, space, alien, tribe, alienplanet, cgi, marine, soldier, battle, loveaffair, antiwar, powerrelations, mindandsoul, 3d, SamWorthington, ZoeSaldana, SigourneyWeaver, JamesCameron]</td>\n",
       "    </tr>\n",
       "    <tr>\n",
       "      <th>1</th>\n",
       "      <td>285</td>\n",
       "      <td>Pirates of the Caribbean: At World's End</td>\n",
       "      <td>[Captain, Barbossa,, long, believed, to, be, dead,, has, come, back, to, life, and, is, headed, to, the, edge, of, the, Earth, with, Will, Turner, and, Elizabeth, Swann., But, nothing, is, quite, as, it, seems., Adventure, Fantasy, Action, ocean, drugabuse, exoticisland, eastindiatradingcompany, loveofone'slife, traitor, shipwreck, strongwoman, ship, alliance, calypso, afterlife, fighter, pirate, swashbuckler, aftercreditsstinger, JohnnyDepp, OrlandoBloom, KeiraKnightley, GoreVerbinski]</td>\n",
       "    </tr>\n",
       "    <tr>\n",
       "      <th>2</th>\n",
       "      <td>206647</td>\n",
       "      <td>Spectre</td>\n",
       "      <td>[A, cryptic, message, from, Bond’s, past, sends, him, on, a, trail, to, uncover, a, sinister, organization., While, M, battles, political, forces, to, keep, the, secret, service, alive,, Bond, peels, back, the, layers, of, deceit, to, reveal, the, terrible, truth, behind, SPECTRE., Action, Adventure, Crime, spy, basedonnovel, secretagent, sequel, mi6, britishsecretservice, unitedkingdom, DanielCraig, ChristophWaltz, LéaSeydoux, SamMendes]</td>\n",
       "    </tr>\n",
       "    <tr>\n",
       "      <th>3</th>\n",
       "      <td>49026</td>\n",
       "      <td>The Dark Knight Rises</td>\n",
       "      <td>[Following, the, death, of, District, Attorney, Harvey, Dent,, Batman, assumes, responsibility, for, Dent's, crimes, to, protect, the, late, attorney's, reputation, and, is, subsequently, hunted, by, the, Gotham, City, Police, Department., Eight, years, later,, Batman, encounters, the, mysterious, Selina, Kyle, and, the, villainous, Bane,, a, new, terrorist, leader, who, overwhelms, Gotham's, finest., The, Dark, Knight, resurfaces, to, protect, a, city, that, has, branded, him, an, enemy., Action, Crime, Drama, Thriller, dccomics, crimefighter, terrorist, secretidentity, burglar, hostagedrama, timebomb, gothamcity, vigilante, cover-up, superhero, villainess, tragichero, terrorism, destruction, catwoman, catburglar, imax, flood, criminalunderworld, batman, ChristianBale, MichaelCaine, GaryOldman, ChristopherNolan]</td>\n",
       "    </tr>\n",
       "    <tr>\n",
       "      <th>4</th>\n",
       "      <td>49529</td>\n",
       "      <td>John Carter</td>\n",
       "      <td>[John, Carter, is, a, war-weary,, former, military, captain, who's, inexplicably, transported, to, the, mysterious, and, exotic, planet, of, Barsoom, (Mars), and, reluctantly, becomes, embroiled, in, an, epic, conflict., It's, a, world, on, the, brink, of, collapse,, and, Carter, rediscovers, his, humanity, when, he, realizes, the, survival, of, Barsoom, and, its, people, rests, in, his, hands., Action, Adventure, ScienceFiction, basedonnovel, mars, medallion, spacetravel, princess, alien, steampunk, martian, escape, edgarriceburroughs, alienrace, superhumanstrength, marscivilization, swordandplanet, 19thcentury, 3d, TaylorKitsch, LynnCollins, SamanthaMorton, AndrewStanton]</td>\n",
       "    </tr>\n",
       "  </tbody>\n",
       "</table>\n",
       "</div>"
      ]
     },
     "execution_count": 86,
     "metadata": {},
     "output_type": "execute_result"
    }
   ],
   "execution_count": 86
  },
  {
   "cell_type": "code",
   "id": "5188b99ea4b2737d",
   "metadata": {},
   "source": [
    "new_movies['tags'] = new_movies['tags'].apply(lambda x:\" \".join(x))\n",
    "# if x is a list (or iterable) of strings, this function will concatenate all the strings in x into one string, with spaces in between each element. 1. It calls the join method on the string literal \" \", which joins the elements of x using a space i.e \" \" as a separator.\n"
   ],
   "outputs": [],
   "execution_count": null
  },
  {
   "cell_type": "code",
   "id": "dab2bcac69505193",
   "metadata": {
    "ExecuteTime": {
     "end_time": "2025-03-13T19:05:33.654951Z",
     "start_time": "2025-03-13T19:05:33.648181Z"
    }
   },
   "source": [
    "new_movies.head()"
   ],
   "outputs": [
    {
     "data": {
      "text/plain": [
       "   movie_id                                     title  \\\n",
       "0     19995                                    Avatar   \n",
       "1       285  Pirates of the Caribbean: At World's End   \n",
       "2    206647                                   Spectre   \n",
       "3     49026                     The Dark Knight Rises   \n",
       "4     49529                               John Carter   \n",
       "\n",
       "                                                                                                                                                                                                                                                                                                                                                                                                                                                                                                                                                                                                                                                                                                                                                        tags  \n",
       "0                                                                                                                                                                                                                                                                                    In the 22nd century, a paraplegic Marine is dispatched to the moon Pandora on a unique mission, but becomes torn between following orders and protecting an alien civilization. Action Adventure Fantasy ScienceFiction cultureclash future spacewar spacecolony society spacetravel futuristic romance space alien tribe alienplanet cgi marine soldier battle loveaffair antiwar powerrelations mindandsoul 3d SamWorthington ZoeSaldana SigourneyWeaver JamesCameron  \n",
       "1                                                                                                                                                                                                                                                                                                          Captain Barbossa, long believed to be dead, has come back to life and is headed to the edge of the Earth with Will Turner and Elizabeth Swann. But nothing is quite as it seems. Adventure Fantasy Action ocean drugabuse exoticisland eastindiatradingcompany loveofone'slife traitor shipwreck strongwoman ship alliance calypso afterlife fighter pirate swashbuckler aftercreditsstinger JohnnyDepp OrlandoBloom KeiraKnightley GoreVerbinski  \n",
       "2                                                                                                                                                                                                                                                                                                                                                         A cryptic message from Bond’s past sends him on a trail to uncover a sinister organization. While M battles political forces to keep the secret service alive, Bond peels back the layers of deceit to reveal the terrible truth behind SPECTRE. Action Adventure Crime spy basedonnovel secretagent sequel mi6 britishsecretservice unitedkingdom DanielCraig ChristophWaltz LéaSeydoux SamMendes  \n",
       "3  Following the death of District Attorney Harvey Dent, Batman assumes responsibility for Dent's crimes to protect the late attorney's reputation and is subsequently hunted by the Gotham City Police Department. Eight years later, Batman encounters the mysterious Selina Kyle and the villainous Bane, a new terrorist leader who overwhelms Gotham's finest. The Dark Knight resurfaces to protect a city that has branded him an enemy. Action Crime Drama Thriller dccomics crimefighter terrorist secretidentity burglar hostagedrama timebomb gothamcity vigilante cover-up superhero villainess tragichero terrorism destruction catwoman catburglar imax flood criminalunderworld batman ChristianBale MichaelCaine GaryOldman ChristopherNolan  \n",
       "4                                                                                                                                John Carter is a war-weary, former military captain who's inexplicably transported to the mysterious and exotic planet of Barsoom (Mars) and reluctantly becomes embroiled in an epic conflict. It's a world on the brink of collapse, and Carter rediscovers his humanity when he realizes the survival of Barsoom and its people rests in his hands. Action Adventure ScienceFiction basedonnovel mars medallion spacetravel princess alien steampunk martian escape edgarriceburroughs alienrace superhumanstrength marscivilization swordandplanet 19thcentury 3d TaylorKitsch LynnCollins SamanthaMorton AndrewStanton  "
      ],
      "text/html": [
       "<div>\n",
       "<style scoped>\n",
       "    .dataframe tbody tr th:only-of-type {\n",
       "        vertical-align: middle;\n",
       "    }\n",
       "\n",
       "    .dataframe tbody tr th {\n",
       "        vertical-align: top;\n",
       "    }\n",
       "\n",
       "    .dataframe thead th {\n",
       "        text-align: right;\n",
       "    }\n",
       "</style>\n",
       "<table border=\"1\" class=\"dataframe\">\n",
       "  <thead>\n",
       "    <tr style=\"text-align: right;\">\n",
       "      <th></th>\n",
       "      <th>movie_id</th>\n",
       "      <th>title</th>\n",
       "      <th>tags</th>\n",
       "    </tr>\n",
       "  </thead>\n",
       "  <tbody>\n",
       "    <tr>\n",
       "      <th>0</th>\n",
       "      <td>19995</td>\n",
       "      <td>Avatar</td>\n",
       "      <td>In the 22nd century, a paraplegic Marine is dispatched to the moon Pandora on a unique mission, but becomes torn between following orders and protecting an alien civilization. Action Adventure Fantasy ScienceFiction cultureclash future spacewar spacecolony society spacetravel futuristic romance space alien tribe alienplanet cgi marine soldier battle loveaffair antiwar powerrelations mindandsoul 3d SamWorthington ZoeSaldana SigourneyWeaver JamesCameron</td>\n",
       "    </tr>\n",
       "    <tr>\n",
       "      <th>1</th>\n",
       "      <td>285</td>\n",
       "      <td>Pirates of the Caribbean: At World's End</td>\n",
       "      <td>Captain Barbossa, long believed to be dead, has come back to life and is headed to the edge of the Earth with Will Turner and Elizabeth Swann. But nothing is quite as it seems. Adventure Fantasy Action ocean drugabuse exoticisland eastindiatradingcompany loveofone'slife traitor shipwreck strongwoman ship alliance calypso afterlife fighter pirate swashbuckler aftercreditsstinger JohnnyDepp OrlandoBloom KeiraKnightley GoreVerbinski</td>\n",
       "    </tr>\n",
       "    <tr>\n",
       "      <th>2</th>\n",
       "      <td>206647</td>\n",
       "      <td>Spectre</td>\n",
       "      <td>A cryptic message from Bond’s past sends him on a trail to uncover a sinister organization. While M battles political forces to keep the secret service alive, Bond peels back the layers of deceit to reveal the terrible truth behind SPECTRE. Action Adventure Crime spy basedonnovel secretagent sequel mi6 britishsecretservice unitedkingdom DanielCraig ChristophWaltz LéaSeydoux SamMendes</td>\n",
       "    </tr>\n",
       "    <tr>\n",
       "      <th>3</th>\n",
       "      <td>49026</td>\n",
       "      <td>The Dark Knight Rises</td>\n",
       "      <td>Following the death of District Attorney Harvey Dent, Batman assumes responsibility for Dent's crimes to protect the late attorney's reputation and is subsequently hunted by the Gotham City Police Department. Eight years later, Batman encounters the mysterious Selina Kyle and the villainous Bane, a new terrorist leader who overwhelms Gotham's finest. The Dark Knight resurfaces to protect a city that has branded him an enemy. Action Crime Drama Thriller dccomics crimefighter terrorist secretidentity burglar hostagedrama timebomb gothamcity vigilante cover-up superhero villainess tragichero terrorism destruction catwoman catburglar imax flood criminalunderworld batman ChristianBale MichaelCaine GaryOldman ChristopherNolan</td>\n",
       "    </tr>\n",
       "    <tr>\n",
       "      <th>4</th>\n",
       "      <td>49529</td>\n",
       "      <td>John Carter</td>\n",
       "      <td>John Carter is a war-weary, former military captain who's inexplicably transported to the mysterious and exotic planet of Barsoom (Mars) and reluctantly becomes embroiled in an epic conflict. It's a world on the brink of collapse, and Carter rediscovers his humanity when he realizes the survival of Barsoom and its people rests in his hands. Action Adventure ScienceFiction basedonnovel mars medallion spacetravel princess alien steampunk martian escape edgarriceburroughs alienrace superhumanstrength marscivilization swordandplanet 19thcentury 3d TaylorKitsch LynnCollins SamanthaMorton AndrewStanton</td>\n",
       "    </tr>\n",
       "  </tbody>\n",
       "</table>\n",
       "</div>"
      ]
     },
     "execution_count": 88,
     "metadata": {},
     "output_type": "execute_result"
    }
   ],
   "execution_count": 88
  },
  {
   "cell_type": "code",
   "id": "28bab3e54fb9515e",
   "metadata": {},
   "source": [
    "new_movies['tags'] = new_movies['tags'].apply(lambda x:x.lower())"
   ],
   "outputs": [],
   "execution_count": null
  },
  {
   "cell_type": "code",
   "id": "511f86b7bfcf1808",
   "metadata": {
    "ExecuteTime": {
     "end_time": "2025-03-13T19:05:33.774361Z",
     "start_time": "2025-03-13T19:05:33.770566Z"
    }
   },
   "source": [
    "new_movies['tags'][0]"
   ],
   "outputs": [
    {
     "data": {
      "text/plain": [
       "'in the 22nd century, a paraplegic marine is dispatched to the moon pandora on a unique mission, but becomes torn between following orders and protecting an alien civilization. action adventure fantasy sciencefiction cultureclash future spacewar spacecolony society spacetravel futuristic romance space alien tribe alienplanet cgi marine soldier battle loveaffair antiwar powerrelations mindandsoul 3d samworthington zoesaldana sigourneyweaver jamescameron'"
      ]
     },
     "execution_count": 90,
     "metadata": {},
     "output_type": "execute_result"
    }
   ],
   "execution_count": 90
  },
  {
   "cell_type": "code",
   "id": "2ed9d9c3433f2713",
   "metadata": {
    "ExecuteTime": {
     "end_time": "2025-03-13T19:05:33.823735Z",
     "start_time": "2025-03-13T19:05:33.821052Z"
    }
   },
   "source": [],
   "outputs": [],
   "execution_count": null
  },
  {
   "metadata": {},
   "cell_type": "markdown",
   "source": "## Vectorization",
   "id": "51c6496b7389fc"
  },
  {
   "metadata": {},
   "cell_type": "markdown",
   "source": "* the most frequent words have also included words like action,actions which are same but taken different due to plurals  , we use stemming to treat these words as same",
   "id": "2d7612388afd97fd"
  },
  {
   "metadata": {
    "ExecuteTime": {
     "end_time": "2025-03-13T19:05:33.851165Z",
     "start_time": "2025-03-13T19:05:33.847935Z"
    }
   },
   "cell_type": "code",
   "source": [
    "from nltk.stem import PorterStemmer\n",
    "ps = PorterStemmer()"
   ],
   "id": "36d9ac3bd4e03ab9",
   "outputs": [],
   "execution_count": 91
  },
  {
   "metadata": {
    "ExecuteTime": {
     "end_time": "2025-03-13T19:05:33.871765Z",
     "start_time": "2025-03-13T19:05:33.866168Z"
    }
   },
   "cell_type": "code",
   "source": [
    "def stem(text):\n",
    "    y= []\n",
    "    for i in text.split():\n",
    "        y.append(ps.stem(i))\n",
    "    return \" \".join(y)"
   ],
   "id": "84fcab84caf395f3",
   "outputs": [],
   "execution_count": 92
  },
  {
   "metadata": {},
   "cell_type": "code",
   "source": "new_movies['tags'] = new_movies['tags'].apply(stem)",
   "id": "921b66c9776b6033",
   "outputs": [],
   "execution_count": null
  },
  {
   "metadata": {
    "ExecuteTime": {
     "end_time": "2025-03-13T19:05:36.040656Z",
     "start_time": "2025-03-13T19:05:36.035508Z"
    }
   },
   "cell_type": "code",
   "source": [
    "from sklearn.feature_extraction.text import CountVectorizer\n",
    "cv = CountVectorizer(max_features=5000,stop_words='english') # extract top 5000 most occuring words in tags and excluding stop_words"
   ],
   "id": "85423f0e0fb2dc29",
   "outputs": [],
   "execution_count": 94
  },
  {
   "metadata": {
    "ExecuteTime": {
     "end_time": "2025-03-13T19:05:36.275342Z",
     "start_time": "2025-03-13T19:05:36.077397Z"
    }
   },
   "cell_type": "code",
   "source": "vectors = cv.fit_transform(new_movies['tags']).toarray() # it returns a sparse matrix we convert to numpy array",
   "id": "18ec10f8c7e3f3d3",
   "outputs": [],
   "execution_count": 95
  },
  {
   "metadata": {
    "ExecuteTime": {
     "end_time": "2025-03-13T19:08:06.288511Z",
     "start_time": "2025-03-13T19:08:06.285447Z"
    }
   },
   "cell_type": "code",
   "source": "np.set_printoptions(threshold=np.inf)",
   "id": "6e0f3b91d952e588",
   "outputs": [],
   "execution_count": 98
  },
  {
   "metadata": {},
   "cell_type": "code",
   "source": "print(cv.get_feature_names_out())",
   "id": "418503596fc29331",
   "outputs": [],
   "execution_count": null
  },
  {
   "metadata": {
    "ExecuteTime": {
     "end_time": "2025-03-13T19:05:36.307139Z",
     "start_time": "2025-03-13T19:05:36.303478Z"
    }
   },
   "cell_type": "code",
   "source": "\n",
   "id": "47205bc46d71dd79",
   "outputs": [],
   "execution_count": 96
  }
 ],
 "metadata": {
  "kernelspec": {
   "display_name": "Python 3",
   "language": "python",
   "name": "python3"
  },
  "language_info": {
   "codemirror_mode": {
    "name": "ipython",
    "version": 3
   },
   "file_extension": ".py",
   "mimetype": "text/x-python",
   "name": "python",
   "nbconvert_exporter": "python",
   "pygments_lexer": "ipython3",
   "version": "3.12.4"
  }
 },
 "nbformat": 4,
 "nbformat_minor": 5
}
